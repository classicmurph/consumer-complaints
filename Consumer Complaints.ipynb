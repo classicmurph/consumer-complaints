{
 "metadata": {
  "name": "",
  "signature": "sha256:51880ac343fc51e1781686ad6aa04cd1fe3316515d3e93bb88a0eb88fdce4d8e"
 },
 "nbformat": 3,
 "nbformat_minor": 0,
 "worksheets": [
  {
   "cells": [
    {
     "cell_type": "code",
     "collapsed": false,
     "input": [
      "import pandas as pd\n",
      "import matplotlib.pyplot as plt\n",
      "import numpy as np"
     ],
     "language": "python",
     "metadata": {},
     "outputs": [],
     "prompt_number": 49
    },
    {
     "cell_type": "code",
     "collapsed": false,
     "input": [
      "%matplotlib inline"
     ],
     "language": "python",
     "metadata": {},
     "outputs": [],
     "prompt_number": 19
    },
    {
     "cell_type": "code",
     "collapsed": false,
     "input": [
      "con_com = pd.read_csv(\"complaints_dec_2014.csv\")\n",
      "con_com.head()"
     ],
     "language": "python",
     "metadata": {},
     "outputs": [
      {
       "html": [
        "<div style=\"max-height:1000px;max-width:1500px;overflow:auto;\">\n",
        "<table border=\"1\" class=\"dataframe\">\n",
        "  <thead>\n",
        "    <tr style=\"text-align: right;\">\n",
        "      <th></th>\n",
        "      <th>Complaint ID</th>\n",
        "      <th>Product</th>\n",
        "      <th>Sub-product</th>\n",
        "      <th>Issue</th>\n",
        "      <th>Sub-issue</th>\n",
        "      <th>State</th>\n",
        "      <th>ZIP code</th>\n",
        "      <th>Submitted via</th>\n",
        "      <th>Date received</th>\n",
        "      <th>Date sent to company</th>\n",
        "      <th>Company</th>\n",
        "      <th>Company response</th>\n",
        "      <th>Timely response?</th>\n",
        "      <th>Consumer disputed?</th>\n",
        "    </tr>\n",
        "  </thead>\n",
        "  <tbody>\n",
        "    <tr>\n",
        "      <th>0</th>\n",
        "      <td> 1177167</td>\n",
        "      <td> Debt collection</td>\n",
        "      <td> NaN</td>\n",
        "      <td> Cont'd attempts collect debt not owed</td>\n",
        "      <td> Debt is not mine</td>\n",
        "      <td> TX</td>\n",
        "      <td> 77068</td>\n",
        "      <td> Web</td>\n",
        "      <td> 12/31/2014</td>\n",
        "      <td> 12/31/2014</td>\n",
        "      <td>  Ad Astra Recovery Services Inc</td>\n",
        "      <td>         Closed with explanation</td>\n",
        "      <td> Yes</td>\n",
        "      <td> NaN</td>\n",
        "    </tr>\n",
        "    <tr>\n",
        "      <th>1</th>\n",
        "      <td> 1177166</td>\n",
        "      <td> Debt collection</td>\n",
        "      <td> NaN</td>\n",
        "      <td> Cont'd attempts collect debt not owed</td>\n",
        "      <td> Debt is not mine</td>\n",
        "      <td> TX</td>\n",
        "      <td> 77068</td>\n",
        "      <td> Web</td>\n",
        "      <td> 12/31/2014</td>\n",
        "      <td> 12/31/2014</td>\n",
        "      <td> Unique Management Services, Inc</td>\n",
        "      <td>         Closed with explanation</td>\n",
        "      <td> Yes</td>\n",
        "      <td> NaN</td>\n",
        "    </tr>\n",
        "    <tr>\n",
        "      <th>2</th>\n",
        "      <td> 1177165</td>\n",
        "      <td> Debt collection</td>\n",
        "      <td> NaN</td>\n",
        "      <td> Cont'd attempts collect debt not owed</td>\n",
        "      <td> Debt is not mine</td>\n",
        "      <td> TX</td>\n",
        "      <td> 77068</td>\n",
        "      <td> Web</td>\n",
        "      <td> 12/31/2014</td>\n",
        "      <td> 12/31/2014</td>\n",
        "      <td>                CL Holdings, LLC</td>\n",
        "      <td>     Closed with monetary relief</td>\n",
        "      <td> Yes</td>\n",
        "      <td> NaN</td>\n",
        "    </tr>\n",
        "    <tr>\n",
        "      <th>3</th>\n",
        "      <td> 1177164</td>\n",
        "      <td> Debt collection</td>\n",
        "      <td> NaN</td>\n",
        "      <td> Cont'd attempts collect debt not owed</td>\n",
        "      <td> Debt is not mine</td>\n",
        "      <td> TX</td>\n",
        "      <td> 77068</td>\n",
        "      <td> Web</td>\n",
        "      <td> 12/31/2014</td>\n",
        "      <td> 12/31/2014</td>\n",
        "      <td>  Enhanced Recovery Company, LLC</td>\n",
        "      <td> Closed with non-monetary relief</td>\n",
        "      <td> Yes</td>\n",
        "      <td> NaN</td>\n",
        "    </tr>\n",
        "    <tr>\n",
        "      <th>4</th>\n",
        "      <td> 1177163</td>\n",
        "      <td> Debt collection</td>\n",
        "      <td> NaN</td>\n",
        "      <td> Cont'd attempts collect debt not owed</td>\n",
        "      <td> Debt is not mine</td>\n",
        "      <td> TX</td>\n",
        "      <td> 77068</td>\n",
        "      <td> Web</td>\n",
        "      <td> 12/31/2014</td>\n",
        "      <td> 12/31/2014</td>\n",
        "      <td>      Enhanced Acquisitions, LLC</td>\n",
        "      <td>         Closed with explanation</td>\n",
        "      <td> Yes</td>\n",
        "      <td> NaN</td>\n",
        "    </tr>\n",
        "  </tbody>\n",
        "</table>\n",
        "</div>"
       ],
       "metadata": {},
       "output_type": "pyout",
       "prompt_number": 2,
       "text": [
        "   Complaint ID          Product Sub-product  \\\n",
        "0       1177167  Debt collection         NaN   \n",
        "1       1177166  Debt collection         NaN   \n",
        "2       1177165  Debt collection         NaN   \n",
        "3       1177164  Debt collection         NaN   \n",
        "4       1177163  Debt collection         NaN   \n",
        "\n",
        "                                   Issue         Sub-issue State  ZIP code  \\\n",
        "0  Cont'd attempts collect debt not owed  Debt is not mine    TX     77068   \n",
        "1  Cont'd attempts collect debt not owed  Debt is not mine    TX     77068   \n",
        "2  Cont'd attempts collect debt not owed  Debt is not mine    TX     77068   \n",
        "3  Cont'd attempts collect debt not owed  Debt is not mine    TX     77068   \n",
        "4  Cont'd attempts collect debt not owed  Debt is not mine    TX     77068   \n",
        "\n",
        "  Submitted via Date received Date sent to company  \\\n",
        "0           Web    12/31/2014           12/31/2014   \n",
        "1           Web    12/31/2014           12/31/2014   \n",
        "2           Web    12/31/2014           12/31/2014   \n",
        "3           Web    12/31/2014           12/31/2014   \n",
        "4           Web    12/31/2014           12/31/2014   \n",
        "\n",
        "                           Company                 Company response  \\\n",
        "0   Ad Astra Recovery Services Inc          Closed with explanation   \n",
        "1  Unique Management Services, Inc          Closed with explanation   \n",
        "2                 CL Holdings, LLC      Closed with monetary relief   \n",
        "3   Enhanced Recovery Company, LLC  Closed with non-monetary relief   \n",
        "4       Enhanced Acquisitions, LLC          Closed with explanation   \n",
        "\n",
        "  Timely response? Consumer disputed?  \n",
        "0              Yes                NaN  \n",
        "1              Yes                NaN  \n",
        "2              Yes                NaN  \n",
        "3              Yes                NaN  \n",
        "4              Yes                NaN  "
       ]
      }
     ],
     "prompt_number": 2
    },
    {
     "cell_type": "code",
     "collapsed": false,
     "input": [
      "con_com.index = pd.to_datetime(con_com.pop('Date received'))\n"
     ],
     "language": "python",
     "metadata": {},
     "outputs": [],
     "prompt_number": 3
    },
    {
     "cell_type": "code",
     "collapsed": false,
     "input": [
      "con_com.head()"
     ],
     "language": "python",
     "metadata": {},
     "outputs": [
      {
       "html": [
        "<div style=\"max-height:1000px;max-width:1500px;overflow:auto;\">\n",
        "<table border=\"1\" class=\"dataframe\">\n",
        "  <thead>\n",
        "    <tr style=\"text-align: right;\">\n",
        "      <th></th>\n",
        "      <th>Complaint ID</th>\n",
        "      <th>Product</th>\n",
        "      <th>Sub-product</th>\n",
        "      <th>Issue</th>\n",
        "      <th>Sub-issue</th>\n",
        "      <th>State</th>\n",
        "      <th>ZIP code</th>\n",
        "      <th>Submitted via</th>\n",
        "      <th>Date sent to company</th>\n",
        "      <th>Company</th>\n",
        "      <th>Company response</th>\n",
        "      <th>Timely response?</th>\n",
        "      <th>Consumer disputed?</th>\n",
        "    </tr>\n",
        "    <tr>\n",
        "      <th>Date received</th>\n",
        "      <th></th>\n",
        "      <th></th>\n",
        "      <th></th>\n",
        "      <th></th>\n",
        "      <th></th>\n",
        "      <th></th>\n",
        "      <th></th>\n",
        "      <th></th>\n",
        "      <th></th>\n",
        "      <th></th>\n",
        "      <th></th>\n",
        "      <th></th>\n",
        "      <th></th>\n",
        "    </tr>\n",
        "  </thead>\n",
        "  <tbody>\n",
        "    <tr>\n",
        "      <th>2014-12-31</th>\n",
        "      <td> 1177167</td>\n",
        "      <td> Debt collection</td>\n",
        "      <td> NaN</td>\n",
        "      <td> Cont'd attempts collect debt not owed</td>\n",
        "      <td> Debt is not mine</td>\n",
        "      <td> TX</td>\n",
        "      <td> 77068</td>\n",
        "      <td> Web</td>\n",
        "      <td> 12/31/2014</td>\n",
        "      <td>  Ad Astra Recovery Services Inc</td>\n",
        "      <td>         Closed with explanation</td>\n",
        "      <td> Yes</td>\n",
        "      <td> NaN</td>\n",
        "    </tr>\n",
        "    <tr>\n",
        "      <th>2014-12-31</th>\n",
        "      <td> 1177166</td>\n",
        "      <td> Debt collection</td>\n",
        "      <td> NaN</td>\n",
        "      <td> Cont'd attempts collect debt not owed</td>\n",
        "      <td> Debt is not mine</td>\n",
        "      <td> TX</td>\n",
        "      <td> 77068</td>\n",
        "      <td> Web</td>\n",
        "      <td> 12/31/2014</td>\n",
        "      <td> Unique Management Services, Inc</td>\n",
        "      <td>         Closed with explanation</td>\n",
        "      <td> Yes</td>\n",
        "      <td> NaN</td>\n",
        "    </tr>\n",
        "    <tr>\n",
        "      <th>2014-12-31</th>\n",
        "      <td> 1177165</td>\n",
        "      <td> Debt collection</td>\n",
        "      <td> NaN</td>\n",
        "      <td> Cont'd attempts collect debt not owed</td>\n",
        "      <td> Debt is not mine</td>\n",
        "      <td> TX</td>\n",
        "      <td> 77068</td>\n",
        "      <td> Web</td>\n",
        "      <td> 12/31/2014</td>\n",
        "      <td>                CL Holdings, LLC</td>\n",
        "      <td>     Closed with monetary relief</td>\n",
        "      <td> Yes</td>\n",
        "      <td> NaN</td>\n",
        "    </tr>\n",
        "    <tr>\n",
        "      <th>2014-12-31</th>\n",
        "      <td> 1177164</td>\n",
        "      <td> Debt collection</td>\n",
        "      <td> NaN</td>\n",
        "      <td> Cont'd attempts collect debt not owed</td>\n",
        "      <td> Debt is not mine</td>\n",
        "      <td> TX</td>\n",
        "      <td> 77068</td>\n",
        "      <td> Web</td>\n",
        "      <td> 12/31/2014</td>\n",
        "      <td>  Enhanced Recovery Company, LLC</td>\n",
        "      <td> Closed with non-monetary relief</td>\n",
        "      <td> Yes</td>\n",
        "      <td> NaN</td>\n",
        "    </tr>\n",
        "    <tr>\n",
        "      <th>2014-12-31</th>\n",
        "      <td> 1177163</td>\n",
        "      <td> Debt collection</td>\n",
        "      <td> NaN</td>\n",
        "      <td> Cont'd attempts collect debt not owed</td>\n",
        "      <td> Debt is not mine</td>\n",
        "      <td> TX</td>\n",
        "      <td> 77068</td>\n",
        "      <td> Web</td>\n",
        "      <td> 12/31/2014</td>\n",
        "      <td>      Enhanced Acquisitions, LLC</td>\n",
        "      <td>         Closed with explanation</td>\n",
        "      <td> Yes</td>\n",
        "      <td> NaN</td>\n",
        "    </tr>\n",
        "  </tbody>\n",
        "</table>\n",
        "</div>"
       ],
       "metadata": {},
       "output_type": "pyout",
       "prompt_number": 4,
       "text": [
        "               Complaint ID          Product Sub-product  \\\n",
        "Date received                                              \n",
        "2014-12-31          1177167  Debt collection         NaN   \n",
        "2014-12-31          1177166  Debt collection         NaN   \n",
        "2014-12-31          1177165  Debt collection         NaN   \n",
        "2014-12-31          1177164  Debt collection         NaN   \n",
        "2014-12-31          1177163  Debt collection         NaN   \n",
        "\n",
        "                                               Issue         Sub-issue State  \\\n",
        "Date received                                                                  \n",
        "2014-12-31     Cont'd attempts collect debt not owed  Debt is not mine    TX   \n",
        "2014-12-31     Cont'd attempts collect debt not owed  Debt is not mine    TX   \n",
        "2014-12-31     Cont'd attempts collect debt not owed  Debt is not mine    TX   \n",
        "2014-12-31     Cont'd attempts collect debt not owed  Debt is not mine    TX   \n",
        "2014-12-31     Cont'd attempts collect debt not owed  Debt is not mine    TX   \n",
        "\n",
        "               ZIP code Submitted via Date sent to company  \\\n",
        "Date received                                                \n",
        "2014-12-31        77068           Web           12/31/2014   \n",
        "2014-12-31        77068           Web           12/31/2014   \n",
        "2014-12-31        77068           Web           12/31/2014   \n",
        "2014-12-31        77068           Web           12/31/2014   \n",
        "2014-12-31        77068           Web           12/31/2014   \n",
        "\n",
        "                                       Company  \\\n",
        "Date received                                    \n",
        "2014-12-31      Ad Astra Recovery Services Inc   \n",
        "2014-12-31     Unique Management Services, Inc   \n",
        "2014-12-31                    CL Holdings, LLC   \n",
        "2014-12-31      Enhanced Recovery Company, LLC   \n",
        "2014-12-31          Enhanced Acquisitions, LLC   \n",
        "\n",
        "                              Company response Timely response?  \\\n",
        "Date received                                                     \n",
        "2014-12-31             Closed with explanation              Yes   \n",
        "2014-12-31             Closed with explanation              Yes   \n",
        "2014-12-31         Closed with monetary relief              Yes   \n",
        "2014-12-31     Closed with non-monetary relief              Yes   \n",
        "2014-12-31             Closed with explanation              Yes   \n",
        "\n",
        "              Consumer disputed?  \n",
        "Date received                     \n",
        "2014-12-31                   NaN  \n",
        "2014-12-31                   NaN  \n",
        "2014-12-31                   NaN  \n",
        "2014-12-31                   NaN  \n",
        "2014-12-31                   NaN  "
       ]
      }
     ],
     "prompt_number": 4
    },
    {
     "cell_type": "code",
     "collapsed": false,
     "input": [],
     "language": "python",
     "metadata": {},
     "outputs": [],
     "prompt_number": 21
    },
    {
     "cell_type": "code",
     "collapsed": false,
     "input": [
      "complaints_by_company = con_com[\"Company\"]\n",
      "bad = complaints_by_company.value_counts()\n",
      "worst_companies = bad[:10]\n",
      "worst_companies"
     ],
     "language": "python",
     "metadata": {},
     "outputs": [
      {
       "metadata": {},
       "output_type": "pyout",
       "prompt_number": 6,
       "text": [
        "Bank of America        766\n",
        "Equifax                737\n",
        "Experian               675\n",
        "TransUnion             604\n",
        "Wells Fargo            598\n",
        "JPMorgan Chase         545\n",
        "Ocwen                  408\n",
        "Citibank               403\n",
        "Nationstar Mortgage    357\n",
        "Capital One            252\n",
        "dtype: int64"
       ]
      }
     ],
     "prompt_number": 6
    },
    {
     "cell_type": "code",
     "collapsed": false,
     "input": [
      "worst_companies.plot(kind=\"bar\")"
     ],
     "language": "python",
     "metadata": {},
     "outputs": [
      {
       "metadata": {},
       "output_type": "pyout",
       "prompt_number": 21,
       "text": [
        "<matplotlib.axes._subplots.AxesSubplot at 0x11ca26860>"
       ]
      },
      {
       "metadata": {},
       "output_type": "display_data",
       "png": "[encoded data removed]",
       "text": [
        "<matplotlib.figure.Figure at 0x11cb73b00>"
       ]
      }
     ],
     "prompt_number": 21
    },
    {
     "cell_type": "markdown",
     "metadata": {},
     "source": [
      "Bank of America has the most complaints of all with 766 last year."
     ]
    },
    {
     "cell_type": "code",
     "collapsed": false,
     "input": [
      "complaints_by_product = con_com[\"Product\"]\n",
      "worst_products = complaints_by_product.value_counts()\n",
      "worst_products"
     ],
     "language": "python",
     "metadata": {},
     "outputs": [
      {
       "metadata": {},
       "output_type": "pyout",
       "prompt_number": 26,
       "text": [
        "Mortgage                   3002\n",
        "Debt collection            2942\n",
        "Credit reporting           2113\n",
        "Bank account or service    1136\n",
        "Credit card                1100\n",
        "Consumer loan               578\n",
        "Student loan                340\n",
        "Payday loan                 141\n",
        "Money transfers             107\n",
        "Prepaid card                 70\n",
        "Other financial service      14\n",
        "dtype: int64"
       ]
      }
     ],
     "prompt_number": 26
    },
    {
     "cell_type": "code",
     "collapsed": false,
     "input": [
      "worst_products.plot(\"bar\")"
     ],
     "language": "python",
     "metadata": {},
     "outputs": [
      {
       "metadata": {},
       "output_type": "pyout",
       "prompt_number": 30,
       "text": [
        "<matplotlib.axes._subplots.AxesSubplot at 0x11db8ce10>"
       ]
      },
      {
       "metadata": {},
       "output_type": "display_data",
       "png": "[encoded data removed]",
       "text": [
        "<matplotlib.figure.Figure at 0x11db6fc50>"
       ]
      }
     ],
     "prompt_number": 30
    },
    {
     "cell_type": "markdown",
     "metadata": {},
     "source": [
      "Mortgages are the most likely to create complaints."
     ]
    },
    {
     "cell_type": "code",
     "collapsed": false,
     "input": [
      "complaints_by_response = con_com[\"Company response\"]\n",
      "common_response = complaints_by_response.value_counts()\n",
      "common_response"
     ],
     "language": "python",
     "metadata": {},
     "outputs": [
      {
       "metadata": {},
       "output_type": "pyout",
       "prompt_number": 34,
       "text": [
        "Closed with explanation            8185\n",
        "Closed with non-monetary relief    1253\n",
        "In progress                        1056\n",
        "Closed with monetary relief         643\n",
        "Closed                              239\n",
        "Untimely response                   167\n",
        "dtype: int64"
       ]
      }
     ],
     "prompt_number": 34
    },
    {
     "cell_type": "code",
     "collapsed": false,
     "input": [
      "common_response.plot(\"bar\")"
     ],
     "language": "python",
     "metadata": {},
     "outputs": [
      {
       "metadata": {},
       "output_type": "pyout",
       "prompt_number": 36,
       "text": [
        "<matplotlib.axes._subplots.AxesSubplot at 0x11dab7f28>"
       ]
      },
      {
       "metadata": {},
       "output_type": "display_data",
       "png": "[encoded data removed]",
       "text": [
        "<matplotlib.figure.Figure at 0x11daa3cc0>"
       ]
      }
     ],
     "prompt_number": 36
    },
    {
     "cell_type": "markdown",
     "metadata": {},
     "source": [
      "You are more likely to get an explanation than not."
     ]
    },
    {
     "cell_type": "code",
     "collapsed": false,
     "input": [
      "complaints_by_state = con_com[\"State\"]\n",
      "biggest_complainers = complaints_by_state.value_counts()[:10]\n",
      "biggest_complainers"
     ],
     "language": "python",
     "metadata": {},
     "outputs": [
      {
       "metadata": {},
       "output_type": "pyout",
       "prompt_number": 42,
       "text": [
        "CA    1591\n",
        "TX    1099\n",
        "FL    1093\n",
        "NY     733\n",
        "GA     512\n",
        "NJ     465\n",
        "IL     427\n",
        "PA     418\n",
        "VA     373\n",
        "OH     348\n",
        "dtype: int64"
       ]
      }
     ],
     "prompt_number": 42
    },
    {
     "cell_type": "code",
     "collapsed": false,
     "input": [
      "biggest_complainers.plot(\"bar\")"
     ],
     "language": "python",
     "metadata": {},
     "outputs": [
      {
       "metadata": {},
       "output_type": "pyout",
       "prompt_number": 48,
       "text": [
        "<matplotlib.axes._subplots.AxesSubplot at 0x11efc50f0>"
       ]
      },
      {
       "metadata": {},
       "output_type": "display_data",
       "png": "[encoded data removed]",
       "text": [
        "<matplotlib.figure.Figure at 0x11d9a2898>"
       ]
      }
     ],
     "prompt_number": 48
    },
    {
     "cell_type": "markdown",
     "metadata": {},
     "source": [
      "California generates the most complaints"
     ]
    },
    {
     "cell_type": "code",
     "collapsed": false,
     "input": [],
     "language": "python",
     "metadata": {},
     "outputs": []
    }
   ],
   "metadata": {}
  }
 ]
}